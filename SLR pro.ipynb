{
 "cells": [
  {
   "cell_type": "code",
   "execution_count": 162,
   "id": "ff2a308b",
   "metadata": {},
   "outputs": [],
   "source": [
    "import tensorflow as tf\n",
    "import numpy as np\n",
    "import matplotlib.pyplot as plt"
   ]
  },
  {
   "cell_type": "code",
   "execution_count": 3,
   "id": "81d46538",
   "metadata": {},
   "outputs": [],
   "source": [
    "import cv2"
   ]
  },
  {
   "cell_type": "code",
   "execution_count": 4,
   "id": "f560fb19",
   "metadata": {},
   "outputs": [],
   "source": [
    "import os\n",
    "from tensorflow.keras.preprocessing.image import ImageDataGenerator"
   ]
  },
  {
   "cell_type": "code",
   "execution_count": 5,
   "id": "48c0f370",
   "metadata": {},
   "outputs": [],
   "source": [
    "train=ImageDataGenerator(rescale=1/255)\n",
    "test=ImageDataGenerator(rescale=1/255)"
   ]
  },
  {
   "cell_type": "code",
   "execution_count": 15,
   "id": "bbc3d831",
   "metadata": {},
   "outputs": [
    {
     "name": "stdout",
     "output_type": "stream",
     "text": [
      "Found 45500 images belonging to 26 classes.\n",
      "Found 6500 images belonging to 26 classes.\n"
     ]
    }
   ],
   "source": [
    "train_dataset=train.flow_from_directory(\"C:/Users/ABDUL MUEED SOUDAGAR/Downloads/sign language dataset/dataset/training_set\",\n",
    "                                       target_size=(200,200))\n",
    "test_dataset=test.flow_from_directory(\"C:/Users/ABDUL MUEED SOUDAGAR/Downloads/sign language dataset/dataset/test_set\",target_size=(200,200))"
   ]
  },
  {
   "cell_type": "code",
   "execution_count": 16,
   "id": "77ad0fda",
   "metadata": {},
   "outputs": [
    {
     "data": {
      "text/plain": [
       "{'A': 0,\n",
       " 'B': 1,\n",
       " 'C': 2,\n",
       " 'D': 3,\n",
       " 'E': 4,\n",
       " 'F': 5,\n",
       " 'G': 6,\n",
       " 'H': 7,\n",
       " 'I': 8,\n",
       " 'J': 9,\n",
       " 'K': 10,\n",
       " 'L': 11,\n",
       " 'M': 12,\n",
       " 'N': 13,\n",
       " 'O': 14,\n",
       " 'P': 15,\n",
       " 'Q': 16,\n",
       " 'R': 17,\n",
       " 'S': 18,\n",
       " 'T': 19,\n",
       " 'U': 20,\n",
       " 'V': 21,\n",
       " 'W': 22,\n",
       " 'X': 23,\n",
       " 'Y': 24,\n",
       " 'Z': 25}"
      ]
     },
     "execution_count": 16,
     "metadata": {},
     "output_type": "execute_result"
    }
   ],
   "source": [
    "train_dataset.class_indices"
   ]
  },
  {
   "cell_type": "code",
   "execution_count": 17,
   "id": "4c732820",
   "metadata": {},
   "outputs": [],
   "source": [
    "model=tf.keras.models.Sequential([\n",
    "    tf.keras.layers.Conv2D(16,(3,3),activation='relu',input_shape=(200,200,3)),\n",
    "    tf.keras.layers.MaxPool2D(2,2),\n",
    "    tf.keras.layers.Conv2D(32,(3,3),activation='relu'),\n",
    "    tf.keras.layers.MaxPool2D(2,2),\n",
    "    tf.keras.layers.Flatten(),\n",
    "    tf.keras.layers.Dense(512,activation='relu'),\n",
    "    tf.keras.layers.Dense(26,activation='softmax')\n",
    "])"
   ]
  },
  {
   "cell_type": "code",
   "execution_count": null,
   "id": "954c9cbd",
   "metadata": {},
   "outputs": [],
   "source": [
    "model.compile(optimizer='adam',loss='categorical_crossentropy',metrics=['accuracy'])"
   ]
  },
  {
   "cell_type": "code",
   "execution_count": 19,
   "id": "56011aba",
   "metadata": {},
   "outputs": [
    {
     "name": "stdout",
     "output_type": "stream",
     "text": [
      "Epoch 1/3\n",
      "1422/1422 [==============================] - 2042s 1s/step - loss: 0.1015 - accuracy: 0.9733\n",
      "Epoch 2/3\n",
      "1422/1422 [==============================] - 2073s 1s/step - loss: 0.0078 - accuracy: 0.9979\n",
      "Epoch 3/3\n",
      "1422/1422 [==============================] - 1262s 888ms/step - loss: 0.0014 - accuracy: 0.9997\n"
     ]
    },
    {
     "data": {
      "text/plain": [
       "<keras.callbacks.History at 0x1edcc669b80>"
      ]
     },
     "execution_count": 19,
     "metadata": {},
     "output_type": "execute_result"
    }
   ],
   "source": [
    "model.fit(train_dataset,epochs=3)"
   ]
  },
  {
   "cell_type": "code",
   "execution_count": 280,
   "id": "b0558bbb",
   "metadata": {},
   "outputs": [],
   "source": [
    "img=cv2.imread(\"C:/Users/ABDUL MUEED SOUDAGAR/Downloads/sign language dataset/dataset/training_set/G/1.png\")"
   ]
  },
  {
   "cell_type": "code",
   "execution_count": 281,
   "id": "c19d36b6",
   "metadata": {},
   "outputs": [
    {
     "name": "stdout",
     "output_type": "stream",
     "text": [
      "1/1 [==============================] - 0s 394ms/step\n",
      "The Letter is G\n"
     ]
    }
   ],
   "source": [
    "res=tf.image.resize(img,(200,200))\n",
    "pred=model.predict(np.expand_dims(res/255,0))\n",
    "y=np.argmax(pred)\n",
    "print(\"The Letter is\",list(filter(lambda x: train_dataset.class_indices[x] == y, train_dataset.class_indices))[0])"
   ]
  },
  {
   "cell_type": "code",
   "execution_count": 269,
   "id": "df12b5f3",
   "metadata": {},
   "outputs": [],
   "source": [
    "from tensorflow.keras.models import load_model"
   ]
  },
  {
   "cell_type": "code",
   "execution_count": 270,
   "id": "1492a56f",
   "metadata": {},
   "outputs": [],
   "source": [
    "model.save('model.h5')"
   ]
  },
  {
   "cell_type": "code",
   "execution_count": 271,
   "id": "26448478",
   "metadata": {},
   "outputs": [],
   "source": [
    "new_model=load_model('model.h5')"
   ]
  },
  {
   "cell_type": "code",
   "execution_count": 278,
   "id": "d0e5ff22",
   "metadata": {},
   "outputs": [],
   "source": [
    "res1=tf.image.resize(img,(200,200))"
   ]
  },
  {
   "cell_type": "code",
   "execution_count": 279,
   "id": "0da75560",
   "metadata": {},
   "outputs": [
    {
     "name": "stdout",
     "output_type": "stream",
     "text": [
      "1/1 [==============================] - 0s 63ms/step\n",
      "The Letter is G\n"
     ]
    }
   ],
   "source": [
    "pred1=new_model.predict(np.expand_dims(res1/255,0))\n",
    "y1=np.argmax(pred1)\n",
    "print(\"The Letter is\",list(filter(lambda x: train_dataset.class_indices[x] == y1, train_dataset.class_indices))[0])"
   ]
  },
  {
   "cell_type": "code",
   "execution_count": null,
   "id": "204db882",
   "metadata": {},
   "outputs": [],
   "source": []
  }
 ],
 "metadata": {
  "kernelspec": {
   "display_name": "Python 3 (ipykernel)",
   "language": "python",
   "name": "python3"
  },
  "language_info": {
   "codemirror_mode": {
    "name": "ipython",
    "version": 3
   },
   "file_extension": ".py",
   "mimetype": "text/x-python",
   "name": "python",
   "nbconvert_exporter": "python",
   "pygments_lexer": "ipython3",
   "version": "3.9.13"
  }
 },
 "nbformat": 4,
 "nbformat_minor": 5
}
